{
 "cells": [
  {
   "cell_type": "code",
   "execution_count": 1,
   "metadata": {},
   "outputs": [],
   "source": [
    "import pandas as pd\n",
    "import matplotlib.pyplot as plt"
   ]
  },
  {
   "cell_type": "code",
   "execution_count": 2,
   "metadata": {},
   "outputs": [],
   "source": [
    "path = './../data'\n",
    "dic = '/clean/'\n",
    "data_name = ['2016-q3', '2016-q4', '2017-q1', '2017-q2','2017-q3','2017-q4','2018-q1','2018-q2','2018-q3','2018-q4','2019-q1']\n",
    "extension = '.csv'"
   ]
  },
  {
   "cell_type": "code",
   "execution_count": 4,
   "metadata": {},
   "outputs": [
    {
     "name": "stdout",
     "output_type": "stream",
     "text": [
      "2016-q3\t64\n",
      "2016-q4\t62\n",
      "2017-q1\t64\n",
      "2017-q2\t86\n",
      "2017-q3\t119\n",
      "2017-q4\t120\n",
      "2018-q1\t119\n",
      "2018-q2\t122\n",
      "2018-q3\t127\n",
      "2018-q4\t96\n",
      "2019-q1\t145\n"
     ]
    }
   ],
   "source": [
    "list_station = []\n",
    "for i in range(11):\n",
    "    # Read data\n",
    "    station_id = {}\n",
    "    file_path = path + dic+ data_name[i] + extension\n",
    "    raw_data = None\n",
    "    raw_data = pd.read_csv(file_path)\n",
    "    row = raw_data['start_station_id']\n",
    "    for j in range(len(row)):\n",
    "        if row[j] not in station_id:\n",
    "            station_id[row[j]] = 1\n",
    "    list_station.append(station_id)\n",
    "    print(data_name[i] + '\\t' + str(len(station_id)))"
   ]
  },
  {
   "cell_type": "code",
   "execution_count": 5,
   "metadata": {},
   "outputs": [
    {
     "name": "stdout",
     "output_type": "stream",
     "text": [
      "2016-q3\t64\n",
      "2016-q4\t62\n",
      "2017-q1\t64\n",
      "2017-q2\t84\n",
      "2017-q3\t121\n",
      "2017-q4\t120\n",
      "2018-q1\t119\n",
      "2018-q2\t122\n",
      "2018-q3\t127\n",
      "2018-q4\t96\n",
      "2019-q1\t143\n"
     ]
    }
   ],
   "source": [
    "list_station = []\n",
    "for i in range(11):\n",
    "    # Read data\n",
    "    station_id = {}\n",
    "    file_path = path + dic+ data_name[i] + extension\n",
    "    raw_data = None\n",
    "    raw_data = pd.read_csv(file_path)\n",
    "    row = raw_data['end_station_id']\n",
    "    for j in range(len(row)):\n",
    "        if row[j] not in station_id:\n",
    "            station_id[row[j]] = 1\n",
    "    list_station.append(station_id)\n",
    "    print(data_name[i] + '\\t' + str(len(station_id)))"
   ]
  },
  {
   "cell_type": "code",
   "execution_count": 61,
   "metadata": {},
   "outputs": [],
   "source": [
    "tmp = [3000,3005,3006,3007,3008,3010,3011,3013,\n",
    "3014,3016,3018,3019,3020,3021,3022,3023,3024,3025,3026,3027,3028,3029,3030,3031,3032,3033,\n",
    "3034,3035,3036,3037,3038,3040,3042,3045,3046,3047,3048,3049,3051,3052,3054,3055,3056,\n",
    "3057,3058,3059,3060,3062,3063,3064,3065,3066,3067,3068,3069,3074,3075,3076,3077,3078,\n",
    "3079,3080,3081,3082,4125,4126,4127,4129,4130,4131,4132,4133,4134,4135,4136,4138,4142,4144,4146,\n",
    "4147,4148,4149,4150,4151,4152,4153,4154,4155,4156,4157,4158,4159,4160,4162,4163,4164,4165,4166,\n",
    "4167,4169,4170,4174,4176,4177,4180,4181,4183,4194,4202,4204,4205,4206,4207,4208,4209,4210,\n",
    "4211,4212,4213,4214,4215,4216,4217,4220,4227,4244,4245,4246,4248,4249,4250,4254,4266,4267,\n",
    "4273,4275,4276,4285,4286,4293,4300,4304,4306,4311,4312,4313,4314,4315,4322,4323,4324,4325,\n",
    "4328,4329,4330,4331,4332,4333,4334,4335,4336,4340,4341,4342,4343,4344,4345,4346,4347,4348,\n",
    "4349,4350,4351,4352,4353,4354,4356,4357,4369,4372,4373,4374,4378,4379,4380,4381,4382, 4385]"
   ]
  },
  {
   "cell_type": "code",
   "execution_count": 62,
   "metadata": {},
   "outputs": [
    {
     "data": {
      "text/plain": [
       "188"
      ]
     },
     "execution_count": 62,
     "metadata": {},
     "output_type": "execute_result"
    }
   ],
   "source": [
    "len(tmp)"
   ]
  },
  {
   "cell_type": "code",
   "execution_count": null,
   "metadata": {},
   "outputs": [],
   "source": []
  }
 ],
 "metadata": {
  "kernelspec": {
   "display_name": "Python 3",
   "language": "python",
   "name": "python3"
  },
  "language_info": {
   "codemirror_mode": {
    "name": "ipython",
    "version": 3
   },
   "file_extension": ".py",
   "mimetype": "text/x-python",
   "name": "python",
   "nbconvert_exporter": "python",
   "pygments_lexer": "ipython3",
   "version": "3.5.0"
  }
 },
 "nbformat": 4,
 "nbformat_minor": 2
}
