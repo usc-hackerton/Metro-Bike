{
 "cells": [
  {
   "cell_type": "code",
   "execution_count": 1,
   "metadata": {},
   "outputs": [],
   "source": [
    "import pandas as pd\n",
    "import matplotlib.pyplot as plt"
   ]
  },
  {
   "cell_type": "code",
   "execution_count": 2,
   "metadata": {},
   "outputs": [],
   "source": [
    "path = './../data'\n",
    "dic = '/clean/'\n",
    "data_name = ['2016-q3', '2016-q4', '2017-q1', '2017-q2','2017-q3','2017-q4','2018-q1','2018-q2','2018-q3','2018-q4','2019-q1']\n",
    "extension = '.csv'"
   ]
  },
  {
   "cell_type": "code",
   "execution_count": null,
   "metadata": {},
   "outputs": [
    {
     "name": "stdout",
     "output_type": "stream",
     "text": [
      "2016-q3\t64\n",
      "2016-q4\t62\n",
      "2017-q1\t64\n",
      "2017-q2\t86\n",
      "2017-q3\t119\n",
      "2017-q4\t120\n",
      "2018-q1\t119\n",
      "2018-q2\t122\n",
      "2018-q3\t127\n",
      "2018-q4\t96\n"
     ]
    }
   ],
   "source": [
    "list_station = []\n",
    "for i in range(11):\n",
    "    # Read data\n",
    "    station_id = {}\n",
    "    file_path = path + dic+ data_name[i] + extension\n",
    "    raw_data = None\n",
    "    raw_data = pd.read_csv(file_path)\n",
    "    row = raw_data['start_station_id']\n",
    "    for j in range(len(row)):\n",
    "        if row[j] not in station_id:\n",
    "            station_id[row[j]] = 1\n",
    "    list_station.append(station_id)\n",
    "    print(data_name[i] + '\\t' + str(len(station_id)))"
   ]
  },
  {
   "cell_type": "code",
   "execution_count": null,
   "metadata": {},
   "outputs": [],
   "source": []
  }
 ],
 "metadata": {
  "kernelspec": {
   "display_name": "Python 3",
   "language": "python",
   "name": "python3"
  },
  "language_info": {
   "codemirror_mode": {
    "name": "ipython",
    "version": 3
   },
   "file_extension": ".py",
   "mimetype": "text/x-python",
   "name": "python",
   "nbconvert_exporter": "python",
   "pygments_lexer": "ipython3",
   "version": "3.5.0"
  }
 },
 "nbformat": 4,
 "nbformat_minor": 2
}
