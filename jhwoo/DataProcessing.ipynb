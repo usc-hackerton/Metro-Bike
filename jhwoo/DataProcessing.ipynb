{
 "cells": [
  {
   "cell_type": "markdown",
   "metadata": {},
   "source": [
    "Remove virtual station data"
   ]
  },
  {
   "cell_type": "code",
   "execution_count": 1,
   "metadata": {},
   "outputs": [],
   "source": [
    "import pandas as pd"
   ]
  },
  {
   "cell_type": "code",
   "execution_count": 2,
   "metadata": {},
   "outputs": [],
   "source": [
    "path = './../data'\n",
    "dic = ['/raw/', '/clean/']\n",
    "data_name = 'metro-bike-share-trips-'\n",
    "yr = ['2016-q3', '2016-q4', '2017-q1', '2017-q2','2017-q3','2017-q4','2018-q1','2018-q2','2018-q3','2018-q4','2019-q1']\n",
    "extension = '.csv'"
   ]
  },
  {
   "cell_type": "code",
   "execution_count": 3,
   "metadata": {},
   "outputs": [
    {
     "name": "stdout",
     "output_type": "stream",
     "text": [
      "./../data/raw/metro-bike-share-trips-2016-q3.csv\n",
      "./../data/raw/metro-bike-share-trips-2016-q4.csv\n",
      "./../data/raw/metro-bike-share-trips-2017-q1.csv\n",
      "./../data/raw/metro-bike-share-trips-2017-q2.csv\n",
      "./../data/raw/metro-bike-share-trips-2017-q3.csv\n",
      "./../data/raw/metro-bike-share-trips-2017-q4.csv\n",
      "./../data/raw/metro-bike-share-trips-2018-q1.csv\n",
      "./../data/raw/metro-bike-share-trips-2018-q2.csv\n",
      "./../data/raw/metro-bike-share-trips-2018-q3.csv\n",
      "./../data/raw/metro-bike-share-trips-2018-q4.csv\n",
      "./../data/raw/metro-bike-share-trips-2019-q1.csv\n"
     ]
    }
   ],
   "source": [
    "for i in range(11):\n",
    "    # Read data\n",
    "    file_path = path + dic[0]+ data_name + yr[i] + extension\n",
    "    print(file_path)\n",
    "    raw_data = None\n",
    "    raw_data = pd.read_csv(file_path)\n",
    "    # Pass row which has '3000' as station\n",
    "    list_start_stations = raw_data['end_station_id']\n",
    "    list_end_stations = raw_data['start_station_id']\n",
    "    for j in range(len(list_start_stations)):\n",
    "        if list_start_stations[j] == int(3000) or list_end_stations[j] == int(3000):\n",
    "            raw_data = raw_data.drop(j, 0)\n",
    "    raw_data.to_csv(path + dic[1] + yr[i]+extension, index=False)"
   ]
  },
  {
   "cell_type": "code",
   "execution_count": null,
   "metadata": {},
   "outputs": [],
   "source": []
  }
 ],
 "metadata": {
  "kernelspec": {
   "display_name": "Python 3",
   "language": "python",
   "name": "python3"
  },
  "language_info": {
   "codemirror_mode": {
    "name": "ipython",
    "version": 3
   },
   "file_extension": ".py",
   "mimetype": "text/x-python",
   "name": "python",
   "nbconvert_exporter": "python",
   "pygments_lexer": "ipython3",
   "version": "3.5.0"
  }
 },
 "nbformat": 4,
 "nbformat_minor": 2
}
