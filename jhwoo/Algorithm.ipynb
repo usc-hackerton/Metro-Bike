{
 "cells": [
  {
   "cell_type": "code",
   "execution_count": 97,
   "metadata": {},
   "outputs": [],
   "source": [
    "import numpy as np\n",
    "import pandas as pd\n",
    "import matplotlib.pyplot as plt"
   ]
  },
  {
   "cell_type": "code",
   "execution_count": 2,
   "metadata": {},
   "outputs": [],
   "source": [
    "path = \"../data/clean/\"\n",
    "data_name = ['2016-q3', '2016-q4', '2017-q1', '2017-q2','2017-q3','2017-q4','2018-q1','2018-q2','2018-q3','2018-q4','2019-q1']\n",
    "extension = '-station.csv'"
   ]
  },
  {
   "cell_type": "code",
   "execution_count": 3,
   "metadata": {},
   "outputs": [],
   "source": [
    "def distance(base_lat, base_lon, loacl_lat, local_lon):\n",
    "    dif = (base_lat - loacl_lat)**2 + (base_lon-local_lon)**2\n",
    "    d = dif**0.5\n",
    "    return(d)"
   ]
  },
  {
   "cell_type": "code",
   "execution_count": 234,
   "metadata": {},
   "outputs": [],
   "source": [
    "def cal_value(lat, lon, data):\n",
    "    dist_list, ratio_list, com_list = [], [], []\n",
    "    total_ratio, total_dist, r, k = 0, 0, 0.02, 0\n",
    "    list_lat = data['lat']\n",
    "    list_lon = data['lon']\n",
    "    list_ratio = data['ratio']\n",
    "    fri_ratio = data['total_Fri']\n",
    "    sat_ratio = data['total_Sat']\n",
    "    for i in range(len(data)):\n",
    "        dist = distance(lat, lon, list_lat[i], list_lon[i])\n",
    "        if dist <= r:\n",
    "            k += 1\n",
    "            dist_list.append(dist)\n",
    "            total_dist += dist\n",
    "            ratio_list.append(list_ratio[i])\n",
    "            total_ratio += list_ratio[i]\n",
    "            diff = abs(int((fri_ratio[i] - sat_ratio[i])/100))\n",
    "            com_list.append(diff)\n",
    "    total_dt_value = sum(com_list)\n",
    "    if(k < 3):\n",
    "        k=0\n",
    "        return(0)\n",
    "    else:\n",
    "        #return(k, total_ratio/k, (total_dist/k-0.06)*10, total_ratio/k+(total_dist/k-0.06)*10)\n",
    "        return(total_ratio/k+(total_dist/k-0.06)*10 + total_dt_value*0.0005)"
   ]
  },
  {
   "cell_type": "code",
   "execution_count": 238,
   "metadata": {},
   "outputs": [],
   "source": [
    "def cal_fitness(lat, lon, data):\n",
    "    result = []\n",
    "    for i in range(8):\n",
    "        data_path = path+data_name[i+2]+extension\n",
    "        data = pd.read_csv(data_path)\n",
    "        result.append(cal_value(lat, lon, data))\n",
    "    print(sum(result))"
   ]
  },
  {
   "cell_type": "code",
   "execution_count": 255,
   "metadata": {},
   "outputs": [],
   "source": [
    "# Set Input\n",
    "lat, lon = 34.030908, -118.233329"
   ]
  },
  {
   "cell_type": "code",
   "execution_count": 256,
   "metadata": {},
   "outputs": [
    {
     "name": "stdout",
     "output_type": "stream",
     "text": [
      "0.8981538371705411\n"
     ]
    }
   ],
   "source": [
    "cal_fitness(lat, lon, data)"
   ]
  },
  {
   "cell_type": "code",
   "execution_count": null,
   "metadata": {},
   "outputs": [],
   "source": [
    "# Bad\n",
    "34.045159, -118.253276\n",
    "0.27814377034218385"
   ]
  },
  {
   "cell_type": "code",
   "execution_count": null,
   "metadata": {},
   "outputs": [],
   "source": [
    "# Good\n",
    "34.030908, -118.233329\n",
    "0.8981538371705411"
   ]
  },
  {
   "cell_type": "code",
   "execution_count": null,
   "metadata": {},
   "outputs": [],
   "source": []
  },
  {
   "cell_type": "code",
   "execution_count": null,
   "metadata": {},
   "outputs": [],
   "source": []
  }
 ],
 "metadata": {
  "kernelspec": {
   "display_name": "Python 3",
   "language": "python",
   "name": "python3"
  },
  "language_info": {
   "codemirror_mode": {
    "name": "ipython",
    "version": 3
   },
   "file_extension": ".py",
   "mimetype": "text/x-python",
   "name": "python",
   "nbconvert_exporter": "python",
   "pygments_lexer": "ipython3",
   "version": "3.5.0"
  }
 },
 "nbformat": 4,
 "nbformat_minor": 2
}
