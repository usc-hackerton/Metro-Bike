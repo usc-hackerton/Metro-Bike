{
 "cells": [
  {
   "cell_type": "markdown",
   "metadata": {},
   "source": [
    "Check the number of bikes"
   ]
  },
  {
   "cell_type": "code",
   "execution_count": 43,
   "metadata": {},
   "outputs": [],
   "source": [
    "import pandas as pd\n",
    "import matplotlib.pyplot as plt"
   ]
  },
  {
   "cell_type": "code",
   "execution_count": 47,
   "metadata": {},
   "outputs": [],
   "source": [
    "path = './../data'\n",
    "dic = ['/raw/', '/clean/']\n",
    "data_name = 'metro-bike-share-trips-'\n",
    "yr = ['2016-q3', '2016-q4', '2017-q1', '2017-q2','2017-q3','2017-q4','2018-q1','2018-q2','2018-q3','2018-q4','2019-q1']\n",
    "extension = '.csv'"
   ]
  },
  {
   "cell_type": "code",
   "execution_count": 49,
   "metadata": {},
   "outputs": [
    {
     "name": "stdout",
     "output_type": "stream",
     "text": [
      "2016-q3\t761\n",
      "2016-q4\t728\n",
      "2017-q1\t751\n",
      "2017-q2\t738\n",
      "2017-q3\t1307\n",
      "2017-q4\t1381\n",
      "2018-q1\t1378\n",
      "2018-q2\t1398\n",
      "2018-q3\t1373\n",
      "2018-q4\t1273\n",
      "2019-q1\t1553\n"
     ]
    }
   ],
   "source": [
    "list_bike = []\n",
    "for i in range(11):\n",
    "    # Read data\n",
    "    bike_id = {}\n",
    "    file_path = path + dic[0]+ data_name + yr[i] + extension\n",
    "    raw_data = None\n",
    "    raw_data = pd.read_csv(file_path)\n",
    "    row = raw_data['bike_id']\n",
    "    for j in range(len(row)):\n",
    "        if row[j] not in bike_id:\n",
    "            bike_id[row[j]] = 1\n",
    "    list_bike.append(bike_id)\n",
    "    print(yr[i] + '\\t' + str(len(bike_id)))"
   ]
  },
  {
   "cell_type": "code",
   "execution_count": 50,
   "metadata": {},
   "outputs": [],
   "source": [
    "num_bikes = {}\n",
    "num_bike = []\n",
    "for i in range(len(list_bike)):\n",
    "    num_bikes[data_name[i]] = len(list_bike[i])\n",
    "    num_bike.append(len(list_bike[i]))"
   ]
  },
  {
   "cell_type": "code",
   "execution_count": 51,
   "metadata": {},
   "outputs": [],
   "source": [
    "num_bike_csv = pd.DataFrame([num_bikes])\n",
    "num_bike_csv = num_bike_csv.T"
   ]
  },
  {
   "cell_type": "code",
   "execution_count": 52,
   "metadata": {},
   "outputs": [],
   "source": [
    "num_bike_csv.to_csv(\"../data/num_bike.csv\")"
   ]
  },
  {
   "cell_type": "markdown",
   "metadata": {},
   "source": [
    "The number of bikes comparison"
   ]
  },
  {
   "cell_type": "code",
   "execution_count": 53,
   "metadata": {},
   "outputs": [
    {
     "data": {
      "text/plain": [
       "[761, 728, 751, 738, 1307, 1381, 1378, 1398, 1373, 1273, 1553]"
      ]
     },
     "execution_count": 53,
     "metadata": {},
     "output_type": "execute_result"
    }
   ],
   "source": [
    "num_bike"
   ]
  },
  {
   "cell_type": "code",
   "execution_count": 55,
   "metadata": {},
   "outputs": [
    {
     "data": {
      "text/plain": [
       "([0, 1, 2, 3, 4, 5, 6, 7, 8, 9, 10], <a list of 11 Text xticklabel objects>)"
      ]
     },
     "execution_count": 55,
     "metadata": {},
     "output_type": "execute_result"
    },
    {
     "data": {
      "image/png": "[encoded data removed]",
      "text/plain": [
       "<Figure size 432x288 with 1 Axes>"
      ]
     },
     "metadata": {
      "needs_background": "light"
     },
     "output_type": "display_data"
    }
   ],
   "source": [
    "plt.plot(yr, num_bike)\n",
    "plt.xticks(rotation=45)"
   ]
  },
  {
   "cell_type": "code",
   "execution_count": null,
   "metadata": {},
   "outputs": [],
   "source": []
  },
  {
   "cell_type": "code",
   "execution_count": null,
   "metadata": {},
   "outputs": [],
   "source": []
  }
 ],
 "metadata": {
  "kernelspec": {
   "display_name": "Python 3",
   "language": "python",
   "name": "python3"
  },
  "language_info": {
   "codemirror_mode": {
    "name": "ipython",
    "version": 3
   },
   "file_extension": ".py",
   "mimetype": "text/x-python",
   "name": "python",
   "nbconvert_exporter": "python",
   "pygments_lexer": "ipython3",
   "version": "3.5.0"
  }
 },
 "nbformat": 4,
 "nbformat_minor": 2
}
