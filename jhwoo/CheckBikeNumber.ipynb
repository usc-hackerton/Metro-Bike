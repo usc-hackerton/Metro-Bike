{
 "cells": [
  {
   "cell_type": "markdown",
   "metadata": {},
   "source": [
    "Check the number of bikes"
   ]
  },
  {
   "cell_type": "code",
   "execution_count": 38,
   "metadata": {},
   "outputs": [],
   "source": [
    "import pandas as pd\n",
    "import matplotlib.pyplot as plt"
   ]
  },
  {
   "cell_type": "code",
   "execution_count": 3,
   "metadata": {},
   "outputs": [],
   "source": [
    "path = './../data'\n",
    "dic = '/clean/'\n",
    "data_name = ['2016-q3', '2016-q4', '2017-q1', '2017-q2','2017-q3','2017-q4','2018-q1','2018-q2','2018-q3','2018-q4','2019-q1']\n",
    "extension = '.csv'"
   ]
  },
  {
   "cell_type": "code",
   "execution_count": 4,
   "metadata": {},
   "outputs": [
    {
     "name": "stdout",
     "output_type": "stream",
     "text": [
      "2016-q3\t761\n",
      "2016-q4\t728\n",
      "2017-q1\t750\n",
      "2017-q2\t738\n",
      "2017-q3\t1306\n",
      "2017-q4\t1381\n",
      "2018-q1\t1377\n",
      "2018-q2\t1396\n",
      "2018-q3\t1371\n",
      "2018-q4\t1270\n",
      "2019-q1\t1538\n"
     ]
    }
   ],
   "source": [
    "list_bike = []\n",
    "for i in range(11):\n",
    "    # Read data\n",
    "    bike_id = {}\n",
    "    file_path = path + dic+ data_name[i] + extension\n",
    "    raw_data = None\n",
    "    raw_data = pd.read_csv(file_path)\n",
    "    row = raw_data['bike_id']\n",
    "    for j in range(len(row)):\n",
    "        if row[j] not in bike_id:\n",
    "            bike_id[row[j]] = 1\n",
    "    list_bike.append(bike_id)\n",
    "    print(data_name[i] + '\\t' + str(len(bike_id)))"
   ]
  },
  {
   "cell_type": "code",
   "execution_count": 36,
   "metadata": {},
   "outputs": [],
   "source": [
    "num_bikes = {}\n",
    "num_bike = []\n",
    "for i in range(len(list_bike)):\n",
    "    num_bikes[data_name[i]] = len(list_bike[i])\n",
    "    num_bike.append(len(list_bike[i]))"
   ]
  },
  {
   "cell_type": "code",
   "execution_count": 26,
   "metadata": {},
   "outputs": [],
   "source": [
    "num_bike_csv = pd.DataFrame([num_bikes])\n",
    "num_bike_csv = num_bike_csv.T"
   ]
  },
  {
   "cell_type": "code",
   "execution_count": 32,
   "metadata": {},
   "outputs": [],
   "source": [
    "num_bike_csv.to_csv(\"../data/num_bike.csv\")"
   ]
  },
  {
   "cell_type": "markdown",
   "metadata": {},
   "source": [
    "The number of bikes comparison"
   ]
  },
  {
   "cell_type": "code",
   "execution_count": 37,
   "metadata": {},
   "outputs": [
    {
     "data": {
      "text/plain": [
       "[761, 728, 750, 738, 1306, 1381, 1377, 1396, 1371, 1270, 1538]"
      ]
     },
     "execution_count": 37,
     "metadata": {},
     "output_type": "execute_result"
    }
   ],
   "source": [
    "num_bike"
   ]
  },
  {
   "cell_type": "code",
   "execution_count": 42,
   "metadata": {},
   "outputs": [
    {
     "data": {
      "text/plain": [
       "([0, 1, 2, 3, 4, 5, 6, 7, 8, 9, 10], <a list of 11 Text xticklabel objects>)"
      ]
     },
     "execution_count": 42,
     "metadata": {},
     "output_type": "execute_result"
    },
    {
     "data": {
      "image/png": "[encoded data removed]",
      "text/plain": [
       "<Figure size 432x288 with 1 Axes>"
      ]
     },
     "metadata": {
      "needs_background": "light"
     },
     "output_type": "display_data"
    }
   ],
   "source": [
    "plt.plot(data_name, num_bike)\n",
    "plt.xticks(rotation=45)"
   ]
  },
  {
   "cell_type": "code",
   "execution_count": null,
   "metadata": {},
   "outputs": [],
   "source": []
  },
  {
   "cell_type": "code",
   "execution_count": null,
   "metadata": {},
   "outputs": [],
   "source": []
  }
 ],
 "metadata": {
  "kernelspec": {
   "display_name": "Python 3",
   "language": "python",
   "name": "python3"
  },
  "language_info": {
   "codemirror_mode": {
    "name": "ipython",
    "version": 3
   },
   "file_extension": ".py",
   "mimetype": "text/x-python",
   "name": "python",
   "nbconvert_exporter": "python",
   "pygments_lexer": "ipython3",
   "version": "3.5.0"
  }
 },
 "nbformat": 4,
 "nbformat_minor": 2
}
