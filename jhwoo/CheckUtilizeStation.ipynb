{
 "cells": [
  {
   "cell_type": "code",
   "execution_count": 1,
   "metadata": {},
   "outputs": [],
   "source": [
    "import pandas as pd\n",
    "import matplotlib.pyplot as plt"
   ]
  },
  {
   "cell_type": "code",
   "execution_count": 2,
   "metadata": {},
   "outputs": [],
   "source": [
    "path = './../data'\n",
    "dic = ['/raw/', '/clean/']\n",
    "data_name = 'metro-bike-share-trips-'\n",
    "yr = ['2016-q3', '2016-q4', '2017-q1', '2017-q2','2017-q3','2017-q4','2018-q1','2018-q2','2018-q3','2018-q4','2019-q1']\n",
    "extension = '.csv'"
   ]
  },
  {
   "cell_type": "code",
   "execution_count": 3,
   "metadata": {},
   "outputs": [
    {
     "name": "stdout",
     "output_type": "stream",
     "text": [
      "2016-q3\t64\n",
      "2016-q4\t63\n",
      "2017-q1\t65\n",
      "2017-q2\t87\n",
      "2017-q3\t122\n",
      "2017-q4\t121\n",
      "2018-q1\t120\n",
      "2018-q2\t123\n",
      "2018-q3\t128\n",
      "2018-q4\t97\n",
      "2019-q1\t146\n"
     ]
    }
   ],
   "source": [
    "list_station = []\n",
    "for i in range(11):\n",
    "    # Read data\n",
    "    station_id = {}\n",
    "    file_path = path + dic[0]+ data_name + yr[i] + extension\n",
    "    raw_data = None\n",
    "    raw_data = pd.read_csv(file_path)\n",
    "    row = raw_data['start_station_id']\n",
    "    for j in range(len(row)):\n",
    "        if row[j] not in station_id:\n",
    "            station_id[row[j]] = 1\n",
    "    row = raw_data['end_station_id']\n",
    "    for j in range(len(row)):\n",
    "        if row[j] not in station_id:\n",
    "            station_id[row[j]] = 1\n",
    "    list_station.append(station_id)\n",
    "    print(yr[i] + '\\t' + str(len(station_id)))"
   ]
  },
  {
   "cell_type": "code",
   "execution_count": 4,
   "metadata": {},
   "outputs": [],
   "source": [
    "erase = []\n",
    "install = []\n",
    "for i in range(10):\n",
    "    stations = []\n",
    "    for element in sorted(list_station[i+1]):\n",
    "        if element not in list_station[i]:\n",
    "            stations.append(element)\n",
    "    install.append(stations)\n",
    "    stations = []\n",
    "    for element in sorted(list_station[i]):\n",
    "        if element not in list_station[i+1]:\n",
    "            stations.append(element)\n",
    "    erase.append(stations)"
   ]
  },
  {
   "cell_type": "code",
   "execution_count": 5,
   "metadata": {},
   "outputs": [
    {
     "name": "stdout",
     "output_type": "stream",
     "text": [
      "[3000]\n",
      "[3009, 3039]\n",
      "[3061, 4138, 4142, 4143, 4144, 4146, 4148, 4150, 4151, 4155, 4156, 4157, 4159, 4160, 4162, 4163, 4165, 4167, 4169, 4170, 4176, 4177, 4181, 4183]\n",
      "[3013, 4110, 4118, 4125, 4126, 4127, 4129, 4130, 4131, 4132, 4133, 4134, 4135, 4136, 4147, 4149, 4152, 4153, 4154, 4158, 4166, 4174, 4180, 4194, 4202, 4204, 4205, 4206, 4207, 4208, 4209, 4210, 4211, 4212, 4213, 4214, 4215, 4216]\n",
      "[4220, 4227]\n",
      "[]\n",
      "[4244, 4249, 4254]\n",
      "[4245, 4246, 4248, 4250, 4267]\n",
      "[4266, 4273, 4275, 4276]\n",
      "[4285, 4286, 4293, 4300, 4304, 4306, 4311, 4312, 4313, 4314, 4315, 4322, 4323, 4324, 4325, 4328, 4329, 4330, 4331, 4332, 4333, 4334, 4335, 4336, 4340, 4341, 4342, 4343, 4344, 4345, 4346, 4347, 4348, 4349, 4350, 4351, 4352, 4353, 4354, 4356, 4357, 4369, 4372, 4373, 4374, 4378, 4379, 4380, 4381, 4382, 4385]\n"
     ]
    }
   ],
   "source": [
    "for i in range(10):\n",
    "    print(install[i])"
   ]
  },
  {
   "cell_type": "code",
   "execution_count": 6,
   "metadata": {},
   "outputs": [
    {
     "name": "stdout",
     "output_type": "stream",
     "text": [
      "[3021, 3053]\n",
      "[]\n",
      "[3009, 3059]\n",
      "[3039, 3061, 4143]\n",
      "[4110, 4118, 4194]\n",
      "[3060]\n",
      "[]\n",
      "[]\n",
      "[3055, 3079, 3080, 4138, 4142, 4144, 4146, 4147, 4148, 4149, 4150, 4151, 4152, 4153, 4154, 4155, 4156, 4157, 4158, 4159, 4160, 4162, 4163, 4165, 4166, 4167, 4169, 4170, 4174, 4176, 4177, 4180, 4181, 4183, 4244]\n",
      "[4108, 4276]\n"
     ]
    }
   ],
   "source": [
    "for i in range(10):\n",
    "    print(erase[i])"
   ]
  },
  {
   "cell_type": "code",
   "execution_count": 7,
   "metadata": {},
   "outputs": [
    {
     "name": "stdout",
     "output_type": "stream",
     "text": [
      "1 \t {3021: 2744, 3053: 25}\n",
      "2 \t {}\n",
      "3 \t {3009: 124, 3059: 334}\n",
      "4 \t {4143: 4, 3061: 112, 3039: 1}\n",
      "5 \t {4194: 189, 4118: 28, 4110: 221}\n",
      "6 \t {3060: 196}\n",
      "7 \t {}\n",
      "8 \t {}\n",
      "9 \t {4160: 258, 4162: 719, 4163: 459, 4165: 419, 4166: 249, 3079: 15, 3080: 5, 4169: 356, 4170: 343, 4174: 208, 4176: 829, 4177: 354, 4180: 654, 4181: 542, 4183: 414, 4244: 179, 4138: 458, 4167: 128, 4142: 587, 3055: 2100, 4144: 511, 4146: 172, 4147: 305, 4148: 177, 4149: 229, 4150: 232, 4151: 598, 4152: 144, 4153: 787, 4154: 315, 4155: 234, 4156: 153, 4157: 170, 4158: 268, 4159: 626}\n",
      "10 \t {4276: 303, 4108: 4}\n"
     ]
    }
   ],
   "source": [
    "list_freq = []\n",
    "for i in range(10):\n",
    "    freq = {}\n",
    "    file_path = path + dic[0]+ data_name + yr[i] + extension\n",
    "    raw_data = None\n",
    "    raw_data = pd.read_csv(file_path)\n",
    "    row1 = raw_data['start_station_id']\n",
    "    row2 = raw_data['end_station_id']\n",
    "    \n",
    "    for k in range(len(erase[i])):\n",
    "        freq[erase[i][k]] = 0\n",
    "    \n",
    "    for j in range(len(row1)):\n",
    "        if erase[i] == []:\n",
    "            continue\n",
    "        if (row1[j] in erase[i]) and (row2[j] in erase[i]):\n",
    "            freq[row1[j]] += 2\n",
    "        elif (row1[j] in erase[i]) and (row2[j] not in erase[i]):\n",
    "            freq[row1[j]] += 1\n",
    "        elif (row1[j] not in erase[i]) and (row2[j] in erase[i]):\n",
    "            freq[row2[j]] += 1\n",
    "    \n",
    "    print(i+1, '\\t', freq)\n",
    "    \n",
    "    list_freq.append(freq)"
   ]
  },
  {
   "cell_type": "markdown",
   "metadata": {},
   "source": [
    "Average, Max, min<br>\n",
    "Pick 3 worst station"
   ]
  },
  {
   "cell_type": "code",
   "execution_count": 18,
   "metadata": {},
   "outputs": [
    {
     "name": "stdout",
     "output_type": "stream",
     "text": [
      "Avg 1 :  1732.46875\n",
      "Avg 2 :  1371.3650793650793\n",
      "Avg 3 :  1039.5692307692307\n",
      "Avg 4 :  1193.5172413793102\n",
      "Avg 5 :  1185.8524590163934\n",
      "Avg 6 :  1177.090909090909\n",
      "Avg 7 :  1089.7833333333333\n",
      "Avg 8 :  1257.8373983739837\n",
      "Avg 9 :  1488.796875\n",
      "Avg 10 :  1523.0309278350514\n"
     ]
    }
   ],
   "source": [
    "Max = 0\n",
    "Min = 100000\n",
    "average = []\n",
    "worst = []\n",
    "list_count = []\n",
    "for i in range(10):\n",
    "    \n",
    "    file_path = path + dic[0]+ data_name + yr[i] + extension\n",
    "    raw_data = None\n",
    "    raw_data = pd.read_csv(file_path)\n",
    "    avg = len(raw_data)*2 / len(list_station[i])\n",
    "    average.append(int(avg))\n",
    "    print(\"Avg\", i+1, \": \", avg)\n",
    "    \n",
    "    count = {}\n",
    "    row = raw_data['start_station_id']\n",
    "    for j in range(len(row)):\n",
    "        if row[j] not in count:\n",
    "            count[row[j]] = 1\n",
    "        else:\n",
    "            count[row[j]] += 1\n",
    "            \n",
    "    row = raw_data['end_station_id']\n",
    "    for j in range(len(row)):\n",
    "        if row[j] not in count:\n",
    "            count[row[j]] = 1\n",
    "        else:\n",
    "            count[row[j]] += 1\n",
    "    \n",
    "    list_count.append(count)"
   ]
  },
  {
   "cell_type": "code",
   "execution_count": 33,
   "metadata": {},
   "outputs": [],
   "source": [
    "list_max = []\n",
    "list_min = []\n",
    "list_worst = []\n",
    "for i in range(len(list_count)):\n",
    "    idx = max(list_count[i], key=list_count[i].get)\n",
    "    Max = list_count[i][idx]\n",
    "    list_max.append({idx:Max})\n",
    "    idx = min(list_count[i], key=list_count[i].get)\n",
    "    Min = list_count[i][idx]\n",
    "    list_min.append({idx:Min})\n",
    "    "
   ]
  },
  {
   "cell_type": "code",
   "execution_count": 34,
   "metadata": {},
   "outputs": [
    {
     "data": {
      "text/plain": [
       "[{3014: 4456},\n",
       " {3005: 3955},\n",
       " {3082: 3143},\n",
       " {3005: 5217},\n",
       " {3005: 5804},\n",
       " {4214: 6355},\n",
       " {4214: 6520},\n",
       " {4214: 7011},\n",
       " {4214: 10854},\n",
       " {3005: 7323}]"
      ]
     },
     "execution_count": 34,
     "metadata": {},
     "output_type": "execute_result"
    }
   ],
   "source": [
    "list_max"
   ]
  },
  {
   "cell_type": "code",
   "execution_count": 35,
   "metadata": {},
   "outputs": [
    {
     "data": {
      "text/plain": [
       "[{3053: 25},\n",
       " {4108: 32},\n",
       " {3080: 69},\n",
       " {4183: 1},\n",
       " {4118: 28},\n",
       " {4108: 11},\n",
       " {4108: 25},\n",
       " {4108: 4},\n",
       " {3080: 5},\n",
       " {4108: 4}]"
      ]
     },
     "execution_count": 35,
     "metadata": {},
     "output_type": "execute_result"
    }
   ],
   "source": [
    "list_min"
   ]
  },
  {
   "cell_type": "code",
   "execution_count": 113,
   "metadata": {},
   "outputs": [],
   "source": [
    "x0 = [2016.5, 2016.75, 2017.0, 2017.25, 2017.5, 2017.75, 2018.0, 2018.25, 2018.50, 2018.75]\n",
    "x, y = [], []\n",
    "for i in range(len(list_freq)):\n",
    "    for j in range(len(list_freq[i])):\n",
    "        x.append(x0[i])\n",
    "        y.append(list(list_freq[i].values())[j])"
   ]
  },
  {
   "cell_type": "code",
   "execution_count": 115,
   "metadata": {},
   "outputs": [
    {
     "data": {
      "image/png": "[encoded data removed]",
      "text/plain": [
       "<Figure size 432x288 with 1 Axes>"
      ]
     },
     "metadata": {
      "needs_background": "light"
     },
     "output_type": "display_data"
    }
   ],
   "source": [
    "plt.plot(x0, average, color='red')\n",
    "plt.scatter(x, y, color='green', alpha=0.3)\n",
    "plt.xticks(rotation=30)\n",
    "plt.legend('upper right')\n",
    "plt.show()"
   ]
  },
  {
   "cell_type": "code",
   "execution_count": 94,
   "metadata": {},
   "outputs": [
    {
     "data": {
      "text/plain": [
       "10"
      ]
     },
     "execution_count": 94,
     "metadata": {},
     "output_type": "execute_result"
    }
   ],
   "source": [
    "len(average)"
   ]
  },
  {
   "cell_type": "code",
   "execution_count": null,
   "metadata": {},
   "outputs": [],
   "source": []
  },
  {
   "cell_type": "code",
   "execution_count": 68,
   "metadata": {},
   "outputs": [],
   "source": []
  },
  {
   "cell_type": "code",
   "execution_count": null,
   "metadata": {},
   "outputs": [],
   "source": []
  }
 ],
 "metadata": {
  "kernelspec": {
   "display_name": "Python 3",
   "language": "python",
   "name": "python3"
  },
  "language_info": {
   "codemirror_mode": {
    "name": "ipython",
    "version": 3
   },
   "file_extension": ".py",
   "mimetype": "text/x-python",
   "name": "python",
   "nbconvert_exporter": "python",
   "pygments_lexer": "ipython3",
   "version": "3.5.0"
  }
 },
 "nbformat": 4,
 "nbformat_minor": 2
}
